{
 "cells": [
  {
   "cell_type": "markdown",
   "id": "fc834c10-f903-47bc-b5a8-d52b69d0513c",
   "metadata": {},
   "source": [
    "<h1>Chapter 1. First Python code.</h1>\n",
    "Let us build a simple model. Our goal (that is, the first phase of CRISP-DM process) is to understand the factors affecting chances for survival for passengers onboard Titanic. The Excel file Titanic.xlsx contains data on all passengers as well as the records on their survival. \n",
    "<Br>We will employ a few Python libraries frequently used in machine learning:\n",
    "    <ul><li>pandas: data analysis and manipulation library;\n",
    "    <li>sklearn: machine learning library;\n",
    "    <li>matplotlib: data visualization library.</ul>\n",
    "<br> Notice a list of files on the left. \n",
    "    \n",
    "<br>Anaconda notebooks are organized in \"cells\". This text is in a \"Markdown cell\". <b>The next cell is a \"code cell\". Click it to select. </b> \n",
    "<br>On the top of this window, notice a list of icons. <b>Find the \"Run\" icon ►. Click this button to run the code in the selected code cell. </b>\n",
    "<br>Alternatively, you can press <Shift - Enter> "
   ]
  },
  {
   "cell_type": "code",
   "execution_count": null,
   "id": "c1d69070-3817-48b8-b6bb-664f1e84099d",
   "metadata": {
    "scrolled": true
   },
   "outputs": [],
   "source": [
    "# When a row starts with the \"#\" symbol, it contains a comment\n",
    "# Use comments to explain what your code is doing. \n",
    "\n",
    "# The first command loads pandas library. Now you can use this library in your program. \n",
    "# The \"as pd\" part of the command means that you can refer to this library as \"pd\", not \"pandas\". \n",
    "# This is a frequent shortcut in Python for frequently used libraries. \n",
    "# We also install a library xlrd used to read Excel files. \n",
    "\n",
    "import pandas as pd\n",
    "!pip install xlrd\n",
    "\n",
    "# Read the Titanic data from the file TitanicCleaned. This file is stored on the course' GitHub site.\n",
    "# Notice that the file is in Excel format. To read the data we are using pandas function \"read_csv\". \n",
    "# We can do that because we have already loaded pandas library in the previous command.\n",
    "\n",
    "titanic_data = pd.read_excel('https://raw.githubusercontent.com/andykir/DataMiningLectures/main/TitanicCleaned.xlsx')\n",
    "\n",
    "# Pandas loaded the data into a variable named \"titanic_data\". \n",
    "#Variables in Python have types - for example, \"int\" (integer), \"str\" (text), etc. \n",
    "#There are more complex types as well. The type of \"titanic_data\" is \"DataFrame\". \n",
    "#It combines the data (usually, a table) and operations (functions) that can be performed on this data. \n",
    "#For example, a function \"head()\" is used to display a few top rows of the DataFrame.  \n",
    " \n",
    "titanic_data.head()\n"
   ]
  },
  {
   "cell_type": "markdown",
   "id": "cf8cd2dd-ac30-4bfd-946f-504294c0488f",
   "metadata": {},
   "source": [
    "<h2>Data Understanding </h2>\n",
    "Explore this data. Notice the names of the columns and data. The \"Lifeboat\" column contains the lifeboat numbers. \n",
    "Notice that for some passengers the lifeboat numbers are missing (\"NaN\"). The reason is, these passengers did not survive. \n",
    "<br>Our goal is to predict the value of \"Survived\" column (dependent variable) from relevant characteristics of passengers (independent variables). In machine learning, the dependent variable is called \"target\" and independent variables are called \"features\", \"predictors\", or \"attributes\". \n",
    "<br> Let us use the following features: 'Sex_Female0Male1', 'Passenger Class', 'Passenger Fare', and 'No of Siblings or Spouses on Board'\n",
    "<br> Notice how to use function \"print\"."
   ]
  },
  {
   "cell_type": "code",
   "execution_count": null,
   "id": "fb1bccf1-09f3-4707-ae6c-d2d23eebf0b9",
   "metadata": {},
   "outputs": [],
   "source": [
    "# Selecting the feature variables (X)\n",
    "X = titanic_data[['Sex_Female0Male1', 'Passenger Class', 'Passenger Fare', 'No of Siblings or Spouses on Board']]\n",
    "# Selecting the target variable (y)\n",
    "y = titanic_data['Survived']\n",
    "\n",
    "# see the variables used for modelings\n",
    "print(\"Features\")\n",
    "print(X.head())\n",
    "\n",
    "print(\"Target\")\n",
    "print(y.head())\n",
    "\n"
   ]
  },
  {
   "cell_type": "markdown",
   "id": "d13bf0fd-6038-47e5-b579-676e2e663b28",
   "metadata": {},
   "source": [
    "<h2>Modeling</h2>\n",
    "We will be using DecisionTreeClassifier model from machine learning library sklearn.\n",
    "It may take a minute or two to train the model. "
   ]
  },
  {
   "cell_type": "code",
   "execution_count": null,
   "id": "a6abddc4-4919-41aa-8e01-0e6aedc53c8b",
   "metadata": {},
   "outputs": [],
   "source": [
    "# Import the library\n",
    "import sklearn.tree\n",
    "\n",
    "# Creating and fitting the decision tree model\n",
    "model = sklearn.tree.DecisionTreeClassifier()\n",
    "model.fit(X, y)\n"
   ]
  },
  {
   "cell_type": "markdown",
   "id": "f90732cc-6c9c-45b2-b9c9-6bd815d8a8ea",
   "metadata": {},
   "source": [
    "<h2>Visualization of results</h2>\n",
    "For visualization, we will be using matplotlib library. Each branch of a decision tree model contains a condition on one independent variable. Again, it will take a bit of time. "
   ]
  },
  {
   "cell_type": "code",
   "execution_count": null,
   "id": "35873a2d-dd87-4409-b8a1-1bd06ae8b502",
   "metadata": {},
   "outputs": [],
   "source": [
    "# Visualizing the decision tree\n",
    "import matplotlib.pyplot as plt\n",
    "plt.figure(figsize=(15, 10))\n",
    "sklearn.tree.plot_tree(model, feature_names=list(X.columns), class_names=['Not Survived', 'Survived'], filled=True)\n",
    "plt.show()"
   ]
  },
  {
   "cell_type": "markdown",
   "id": "2b8e431d-65f0-4d2c-bab6-8666d3369269",
   "metadata": {},
   "source": [
    "Unfortunately, the model is way too complex and hence not very useful. Let us simplify the model, limiting the number of brunches to 3. I needed to modify one line in the code (do you see, which one?). Notice that, I don't need to import the libraries anymore: they have already been loaded."
   ]
  },
  {
   "cell_type": "code",
   "execution_count": null,
   "id": "8742aaf3-d82a-46ba-a181-860d6bd45682",
   "metadata": {},
   "outputs": [],
   "source": [
    "# Creating and fitting the decision tree model\n",
    "model = sklearn.tree.DecisionTreeClassifier(max_depth=3)\n",
    "model.fit(X, y)\n",
    "\n",
    "# Visualizing the decision tree\n",
    "plt.figure(figsize=(15, 10))\n",
    "sklearn.tree.plot_tree(model, feature_names=list(X.columns), class_names=['Not Survived', 'Survived'], filled=True)\n",
    "plt.show()"
   ]
  },
  {
   "cell_type": "markdown",
   "id": "ed43283e-a177-47ba-9a56-802ddb3ef155",
   "metadata": {},
   "source": [
    "Read the explanation of the results in the lab assignment."
   ]
  },
  {
   "cell_type": "code",
   "execution_count": null,
   "id": "69fde626-aa5c-4c14-b2ff-b13c510a6122",
   "metadata": {},
   "outputs": [],
   "source": []
  }
 ],
 "metadata": {
  "kernelspec": {
   "display_name": "anaconda-panel-2023.05-py310",
   "language": "python",
   "name": "conda-env-anaconda-panel-2023.05-py310-py"
  },
  "language_info": {
   "codemirror_mode": {
    "name": "ipython",
    "version": 3
   },
   "file_extension": ".py",
   "mimetype": "text/x-python",
   "name": "python",
   "nbconvert_exporter": "python",
   "pygments_lexer": "ipython3",
   "version": "3.11.5"
  }
 },
 "nbformat": 4,
 "nbformat_minor": 5
}
